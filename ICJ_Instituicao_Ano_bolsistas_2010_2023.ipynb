{
  "nbformat": 4,
  "nbformat_minor": 0,
  "metadata": {
    "colab": {
      "provenance": [],
      "authorship_tag": "ABX9TyMB6YkuaWZShSUwNvkFEq1l",
      "include_colab_link": true
    },
    "kernelspec": {
      "name": "python3",
      "display_name": "Python 3"
    },
    "language_info": {
      "name": "python"
    }
  },
  "cells": [
    {
      "cell_type": "markdown",
      "metadata": {
        "id": "view-in-github",
        "colab_type": "text"
      },
      "source": [
        "<a href=\"https://colab.research.google.com/github/tiago15anjos/Agrega-o_ICJ_2010_2023/blob/main/ICJ_Instituicao_Ano_bolsistas_2010_2023.ipynb\" target=\"_parent\"><img src=\"https://colab.research.google.com/assets/colab-badge.svg\" alt=\"Open In Colab\"/></a>"
      ]
    },
    {
      "cell_type": "code",
      "execution_count": 1,
      "metadata": {
        "colab": {
          "base_uri": "https://localhost:8080/"
        },
        "id": "dk1BF0FnVkq0",
        "outputId": "8bc96b6a-9c51-462f-d432-ea10a98aee24"
      },
      "outputs": [
        {
          "output_type": "stream",
          "name": "stdout",
          "text": [
            "Arquivo gerado: fato_mun_ano_inst.xlsx\n"
          ]
        }
      ],
      "source": [
        "import pandas as pd\n",
        "\n",
        "# === 0. Carregar o arquivo base ===========================================\n",
        "df = pd.read_excel(\"ICJ_CNPQ_2010_2023_LIMPO.xlsx\")\n",
        "\n",
        "# === 1. Definir chaves de agrupamento ====================================\n",
        "lvl_city_year_inst_prog = [\n",
        "    # chave município‑ano\n",
        "    \"Regiao_Geografica\", \"Unidade_Federacao\", \"Nome_Municipio\",\n",
        "    \"Codigo_IBGE\", \"Ano\", \"Sigla_UF\", \"Pais\",\n",
        "    # dimensões adicionais\n",
        "    \"Instituição\", \"Programa\", \"Modalidade\", \"Area\",\n",
        "    \"Grande_Area\", \"Linha_de_Fomento\", \"Origem_do_Recurso\"\n",
        "]\n",
        "\n",
        "# === 2. Colunas numéricas a agregar ======================================\n",
        "value_cols = [\n",
        "    \"Valor_Rs\", \"Valor_USS\", \"Benef_Modal/Ano\",\n",
        "    \"Bolsa/Ano\", \"Auxílio/Ano\"\n",
        "]\n",
        "\n",
        "# === 3. Função para “achatar” MultiIndex gerado pelo groupby =============\n",
        "def flatten_cols(df_grouped):\n",
        "    df_grouped.columns = [\n",
        "        f\"{col}_{func if func!='size' else ''}\".rstrip(\"_\")\n",
        "        for col, func in df_grouped.columns\n",
        "    ]\n",
        "    return df_grouped.reset_index()\n",
        "\n",
        "# === 4. Agregação ========================================================\n",
        "agg_inst = {c: [\"mean\", \"sum\"] for c in value_cols}\n",
        "agg_inst[\"Codigo_IBGE\"] = \"size\"          # contagem de bolsistas\n",
        "\n",
        "fato_mun_ano_inst = (\n",
        "    df.groupby(lvl_city_year_inst_prog, dropna=False)\n",
        "      .agg(agg_inst)\n",
        "      .rename(columns={\"Codigo_IBGE\": \"Qtd_Bolsistas_Inst\"})\n",
        "      .pipe(flatten_cols)\n",
        ")\n",
        "\n",
        "# === 5. Salvar ============================================================\n",
        "fato_mun_ano_inst.to_excel(\"fato_mun_ano_inst.xlsx\", index=False)\n",
        "\n",
        "print(\"Arquivo gerado: fato_mun_ano_inst.xlsx\")\n"
      ]
    }
  ]
}