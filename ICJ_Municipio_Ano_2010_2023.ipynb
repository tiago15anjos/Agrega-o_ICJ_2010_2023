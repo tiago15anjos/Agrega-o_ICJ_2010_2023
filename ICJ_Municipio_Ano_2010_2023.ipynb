{
  "nbformat": 4,
  "nbformat_minor": 0,
  "metadata": {
    "colab": {
      "provenance": [],
      "authorship_tag": "ABX9TyM1jkf3NewSqo0DawHG4KY6",
      "include_colab_link": true
    },
    "kernelspec": {
      "name": "python3",
      "display_name": "Python 3"
    },
    "language_info": {
      "name": "python"
    }
  },
  "cells": [
    {
      "cell_type": "markdown",
      "metadata": {
        "id": "view-in-github",
        "colab_type": "text"
      },
      "source": [
        "<a href=\"https://colab.research.google.com/github/tiago15anjos/Agrega-o_ICJ_2010_2023/blob/main/ICJ_Municipio_Ano_2010_2023.ipynb\" target=\"_parent\"><img src=\"https://colab.research.google.com/assets/colab-badge.svg\" alt=\"Open In Colab\"/></a>"
      ]
    },
    {
      "cell_type": "code",
      "execution_count": 1,
      "metadata": {
        "colab": {
          "base_uri": "https://localhost:8080/"
        },
        "id": "YcimEV6iI-Jg",
        "outputId": "35db7743-fa79-4941-9a60-bbb94e771769"
      },
      "outputs": [
        {
          "output_type": "stream",
          "name": "stdout",
          "text": [
            "Arquivos salvos:\n",
            "- fato_municipio_ano.xlsx\n",
            "- fato_mun_ano_inst.xlsx\n"
          ]
        }
      ],
      "source": [
        "import pandas as pd\n",
        "\n",
        "# === 0. Carregar o arquivo ================================================\n",
        "df = pd.read_excel(\"ICJ_CNPQ_2010_2023_LIMPO.xlsx\")\n",
        "\n",
        "# === 1. Definições iniciais ===============================================\n",
        "lvl_city_year = [\n",
        "    \"Regiao_Geografica\", \"Unidade_Federacao\", \"Nome_Municipio\",\n",
        "    \"Codigo_IBGE\", \"Ano\", \"Sigla_UF\", \"Pais\"\n",
        "]\n",
        "lvl_city_year_inst = lvl_city_year + [\"Instituição\"]\n",
        "\n",
        "# Métricas numéricas que terão média e soma\n",
        "value_cols = [\n",
        "    \"Valor_Rs\", \"Valor_USS\", \"Benef_Modal/Ano\",\n",
        "    \"Bolsa/Ano\", \"Auxílio/Ano\"\n",
        "]\n",
        "\n",
        "# Função auxiliar para renomear colunas multi‑nível\n",
        "def flatten_cols(df_grouped):\n",
        "    df_grouped.columns = [\n",
        "        f\"{col}_{func if func!='size' else ''}\".rstrip(\"_\")\n",
        "        for col, func in df_grouped.columns\n",
        "    ]\n",
        "    return df_grouped.reset_index()\n",
        "\n",
        "# === 2. FATO MUNICÍPIO + ANO =============================================\n",
        "agg_city_year = {c: [\"mean\", \"sum\"] for c in value_cols}\n",
        "agg_city_year[\"Codigo_IBGE\"] = \"size\"               # contagem de linhas\n",
        "agg_city_year[\"Instituição\"] = (\n",
        "    lambda x: \"; \".join(sorted(x.unique()))         # lista de instituições*\n",
        ")\n",
        "\n",
        "fato_municipio_ano = (\n",
        "    df.groupby(lvl_city_year, dropna=False)\n",
        "      .agg(agg_city_year)\n",
        "      .rename(columns={\"Codigo_IBGE\": \"Qtd_Bolsistas\"})\n",
        "      .pipe(flatten_cols)\n",
        ")\n",
        "\n",
        "fato_municipio_ano.to_excel(\"fato_municipio_ano.xlsx\", index=False)\n",
        "\n",
        "# === 3. FATO MUNICÍPIO + ANO + INSTITUIÇÃO ===============================\n",
        "agg_city_year_inst = {c: [\"mean\", \"sum\"] for c in value_cols}\n",
        "agg_city_year_inst[\"Codigo_IBGE\"] = \"size\"          # contagem de bolsistas\n",
        "\n",
        "fato_mun_ano_inst = (\n",
        "    df.groupby(lvl_city_year_inst, dropna=False)\n",
        "      .agg(agg_city_year_inst)\n",
        "      .rename(columns={\"Codigo_IBGE\": \"Qtd_Bolsistas_Inst\"})\n",
        "      .pipe(flatten_cols)\n",
        ")\n",
        "\n",
        "fato_mun_ano_inst.to_excel(\"fato_mun_ano_inst.xlsx\", index=False)\n",
        "\n",
        "print(\"Arquivos salvos:\")\n",
        "print(\"- fato_municipio_ano.xlsx\")\n",
        "print(\"- fato_mun_ano_inst.xlsx\")\n"
      ]
    },
    {
      "cell_type": "code",
      "source": [
        "import pandas as pd\n",
        "\n",
        "# === 0. Carregar o arquivo base ===========================================\n",
        "df = pd.read_excel(\"ICJ_CNPQ_2010_2023_LIMPO.xlsx\")\n",
        "\n",
        "# === 1. Definir chaves de agrupamento ====================================\n",
        "lvl_city_year_inst_prog = [\n",
        "    # chave município‑ano\n",
        "    \"Regiao_Geografica\", \"Unidade_Federacao\", \"Nome_Municipio\",\n",
        "    \"Codigo_IBGE\", \"Ano\", \"Sigla_UF\", \"Pais\",\n",
        "    # dimensões adicionais\n",
        "    \"Instituição\", \"Programa\", \"Modalidade\", \"Area\",\n",
        "    \"Grande_Area\", \"Linha_de_Fomento\", \"Origem_do_Recurso\"\n",
        "]\n",
        "\n",
        "# === 2. Colunas numéricas a agregar ======================================\n",
        "value_cols = [\n",
        "    \"Valor_Rs\", \"Valor_USS\", \"Benef_Modal/Ano\",\n",
        "    \"Bolsa/Ano\", \"Auxílio/Ano\"\n",
        "]\n",
        "\n",
        "# === 3. Função para “achatar” MultiIndex gerado pelo groupby =============\n",
        "def flatten_cols(df_grouped):\n",
        "    df_grouped.columns = [\n",
        "        f\"{col}_{func if func!='size' else ''}\".rstrip(\"_\")\n",
        "        for col, func in df_grouped.columns\n",
        "    ]\n",
        "    return df_grouped.reset_index()\n",
        "\n",
        "# === 4. Agregação ========================================================\n",
        "agg_inst = {c: [\"mean\", \"sum\"] for c in value_cols}\n",
        "agg_inst[\"Codigo_IBGE\"] = \"size\"          # contagem de bolsistas\n",
        "\n",
        "fato_mun_ano_inst = (\n",
        "    df.groupby(lvl_city_year_inst_prog, dropna=False)\n",
        "      .agg(agg_inst)\n",
        "      .rename(columns={\"Codigo_IBGE\": \"Qtd_Bolsistas_Inst\"})\n",
        "      .pipe(flatten_cols)\n",
        ")\n",
        "\n",
        "# === 5. Salvar ============================================================\n",
        "fato_mun_ano_inst.to_excel(\"fato_mun_ano_inst.xlsx\", index=False)\n",
        "\n",
        "print(\"Arquivo gerado: fato_mun_ano_inst.xlsx\")\n"
      ],
      "metadata": {
        "colab": {
          "base_uri": "https://localhost:8080/"
        },
        "id": "PI0wyCpeS2Qx",
        "outputId": "ceb71641-64a2-4bb6-d0b4-93fbea01046d"
      },
      "execution_count": 2,
      "outputs": [
        {
          "output_type": "stream",
          "name": "stdout",
          "text": [
            "Arquivo gerado: fato_mun_ano_inst.xlsx\n"
          ]
        }
      ]
    }
  ]
}